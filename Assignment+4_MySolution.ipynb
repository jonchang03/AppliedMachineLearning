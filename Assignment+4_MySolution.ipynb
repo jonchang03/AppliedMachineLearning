{
 "cells": [
  {
   "cell_type": "markdown",
   "metadata": {},
   "source": [
    "---\n",
    "\n",
    "_You are currently looking at **version 1.1** of this notebook. To download notebooks and datafiles, as well as get help on Jupyter notebooks in the Coursera platform, visit the [Jupyter Notebook FAQ](https://www.coursera.org/learn/python-machine-learning/resources/bANLa) course resource._\n",
    "\n",
    "---"
   ]
  },
  {
   "cell_type": "markdown",
   "metadata": {},
   "source": [
    "## Assignment 4 - Understanding and Predicting Property Maintenance Fines\n",
    "\n",
    "This assignment is based on a data challenge from the Michigan Data Science Team ([MDST](http://midas.umich.edu/mdst/)). \n",
    "\n",
    "The Michigan Data Science Team ([MDST](http://midas.umich.edu/mdst/)) and the Michigan Student Symposium for Interdisciplinary Statistical Sciences ([MSSISS](https://sites.lsa.umich.edu/mssiss/)) have partnered with the City of Detroit to help solve one of the most pressing problems facing Detroit - blight. [Blight violations](http://www.detroitmi.gov/How-Do-I/Report/Blight-Complaint-FAQs) are issued by the city to individuals who allow their properties to remain in a deteriorated condition. Every year, the city of Detroit issues millions of dollars in fines to residents and every year, many of these fines remain unpaid. Enforcing unpaid blight fines is a costly and tedious process, so the city wants to know: how can we increase blight ticket compliance?\n",
    "\n",
    "The first step in answering this question is understanding when and why a resident might fail to comply with a blight ticket. This is where predictive modeling comes in. For this assignment, your task is to predict whether a given blight ticket will be paid on time.\n",
    "\n",
    "All data for this assignment has been provided to us through the [Detroit Open Data Portal](https://data.detroitmi.gov/). **Only the data already included in your Coursera directory can be used for training the model for this assignment.** Nonetheless, we encourage you to look into data from other Detroit datasets to help inform feature creation and model selection. We recommend taking a look at the following related datasets:\n",
    "\n",
    "* [Building Permits](https://data.detroitmi.gov/Property-Parcels/Building-Permits/xw2a-a7tf)\n",
    "* [Trades Permits](https://data.detroitmi.gov/Property-Parcels/Trades-Permits/635b-dsgv)\n",
    "* [Improve Detroit: Submitted Issues](https://data.detroitmi.gov/Government/Improve-Detroit-Submitted-Issues/fwz3-w3yn)\n",
    "* [DPD: Citizen Complaints](https://data.detroitmi.gov/Public-Safety/DPD-Citizen-Complaints-2016/kahe-efs3)\n",
    "* [Parcel Map](https://data.detroitmi.gov/Property-Parcels/Parcel-Map/fxkw-udwf)\n",
    "\n",
    "___\n",
    "\n",
    "We provide you with two data files for use in training and validating your models: train.csv and test.csv. Each row in these two files corresponds to a single blight ticket, and includes information about when, why, and to whom each ticket was issued. The target variable is compliance, which is True if the ticket was paid early, on time, or within one month of the hearing data, False if the ticket was paid after the hearing date or not at all, and Null if the violator was found not responsible. Compliance, as well as a handful of other variables that will not be available at test-time, are only included in train.csv.\n",
    "\n",
    "Note: All tickets where the violators were found not responsible are not considered during evaluation. They are included in the training set as an additional source of data for visualization, and to enable unsupervised and semi-supervised approaches. However, they are not included in the test set.\n",
    "\n",
    "<br>\n",
    "\n",
    "**File descriptions** (Use only this data for training your model!)\n",
    "\n",
    "    train.csv - the training set (all tickets issued 2004-2011)\n",
    "    test.csv - the test set (all tickets issued 2012-2016)\n",
    "    addresses.csv & latlons.csv - mapping from ticket id to addresses, and from addresses to lat/lon coordinates. \n",
    "     Note: misspelled addresses may be incorrectly geolocated.\n",
    "\n",
    "<br>\n",
    "\n",
    "**Data fields**\n",
    "\n",
    "train.csv & test.csv\n",
    "\n",
    "    ticket_id - unique identifier for tickets\n",
    "    agency_name - Agency that issued the ticket\n",
    "    inspector_name - Name of inspector that issued the ticket\n",
    "    violator_name - Name of the person/organization that the ticket was issued to\n",
    "    violation_street_number, violation_street_name, violation_zip_code - Address where the violation occurred\n",
    "    mailing_address_str_number, mailing_address_str_name, city, state, zip_code, non_us_str_code, country - Mailing address of the violator\n",
    "    ticket_issued_date - Date and time the ticket was issued\n",
    "    hearing_date - Date and time the violator's hearing was scheduled\n",
    "    violation_code, violation_description - Type of violation\n",
    "    disposition - Judgment and judgement type\n",
    "    fine_amount - Violation fine amount, excluding fees\n",
    "    admin_fee - $20 fee assigned to responsible judgments\n",
    "state_fee - $10 fee assigned to responsible judgments\n",
    "    late_fee - 10% fee assigned to responsible judgments\n",
    "    discount_amount - discount applied, if any\n",
    "    clean_up_cost - DPW clean-up or graffiti removal cost\n",
    "    judgment_amount - Sum of all fines and fees\n",
    "    grafitti_status - Flag for graffiti violations\n",
    "    \n",
    "train.csv only\n",
    "\n",
    "    payment_amount - Amount paid, if any\n",
    "    payment_date - Date payment was made, if it was received\n",
    "    payment_status - Current payment status as of Feb 1 2017\n",
    "    balance_due - Fines and fees still owed\n",
    "    collection_status - Flag for payments in collections\n",
    "    compliance [target variable for prediction] \n",
    "     Null = Not responsible\n",
    "     0 = Responsible, non-compliant\n",
    "     1 = Responsible, compliant\n",
    "    compliance_detail - More information on why each ticket was marked compliant or non-compliant\n",
    "\n",
    "\n",
    "___\n",
    "\n",
    "## Evaluation\n",
    "\n",
    "Your predictions will be given as the probability that the corresponding blight ticket will be paid on time.\n",
    "\n",
    "The evaluation metric for this assignment is the Area Under the ROC Curve (AUC). \n",
    "\n",
    "Your grade will be based on the AUC score computed for your classifier. A model which with an AUROC of 0.7 passes this assignment, over 0.75 will recieve full points.\n",
    "___\n",
    "\n",
    "For this assignment, create a function that trains a model to predict blight ticket compliance in Detroit using `train.csv`. Using this model, return a series of length 61001 with the data being the probability that each corresponding ticket from `test.csv` will be paid, and the index being the ticket_id.\n",
    "\n",
    "Example:\n",
    "\n",
    "    ticket_id\n",
    "       284932    0.531842\n",
    "       285362    0.401958\n",
    "       285361    0.105928\n",
    "       285338    0.018572\n",
    "                 ...\n",
    "       376499    0.208567\n",
    "       376500    0.818759\n",
    "       369851    0.018528\n",
    "       Name: compliance, dtype: float32\n",
    "       \n",
    "### Hints\n",
    "\n",
    "* Make sure your code is working before submitting it to the autograder.\n",
    "\n",
    "* Print out your result to see whether there is anything weird (e.g., all probabilities are the same).\n",
    "\n",
    "* Generally the total runtime should be less than 10 mins. You should NOT use Neural Network related classifiers (e.g., MLPClassifier) in this question. \n",
    "\n",
    "* Try to avoid global variables. If you have other functions besides blight_model, you should move those functions inside the scope of blight_model.\n",
    "\n",
    "* Refer to the pinned threads in Week 4's discussion forum when there is something you could not figure it out."
   ]
  },
  {
   "cell_type": "code",
   "execution_count": 203,
   "metadata": {
    "collapsed": true
   },
   "outputs": [],
   "source": [
    "import pandas as pd\n",
    "import numpy as np"
   ]
  },
  {
   "cell_type": "markdown",
   "metadata": {},
   "source": [
    "## Read in Data"
   ]
  },
  {
   "cell_type": "code",
   "execution_count": 240,
   "metadata": {
    "collapsed": false
   },
   "outputs": [
    {
     "name": "stderr",
     "output_type": "stream",
     "text": [
      "<string>:2: DtypeWarning: Columns (11,12,31) have mixed types. Specify dtype option on import or set low_memory=False.\n"
     ]
    },
    {
     "name": "stdout",
     "output_type": "stream",
     "text": [
      "CPU times: user 2.95 s, sys: 196 ms, total: 3.15 s\n",
      "Wall time: 4.57 s\n"
     ]
    }
   ],
   "source": [
    "%%time\n",
    "train = pd.read_csv(\"train.csv\", encoding = \"ISO-8859-1\")\n",
    "test = pd.read_csv(\"test.csv\", encoding = \"ISO-8859-1\")\n",
    "addresses = pd.read_csv(\"addresses.csv\")\n",
    "latlons = pd.read_csv(\"latlons.csv\")"
   ]
  },
  {
   "cell_type": "code",
   "execution_count": 241,
   "metadata": {
    "collapsed": false
   },
   "outputs": [
    {
     "data": {
      "text/html": [
       "<div>\n",
       "<table border=\"1\" class=\"dataframe\">\n",
       "  <thead>\n",
       "    <tr style=\"text-align: right;\">\n",
       "      <th></th>\n",
       "      <th>ticket_id</th>\n",
       "      <th>agency_name</th>\n",
       "      <th>inspector_name</th>\n",
       "      <th>violator_name</th>\n",
       "      <th>violation_street_number</th>\n",
       "      <th>violation_street_name</th>\n",
       "      <th>violation_zip_code</th>\n",
       "      <th>mailing_address_str_number</th>\n",
       "      <th>mailing_address_str_name</th>\n",
       "      <th>city</th>\n",
       "      <th>...</th>\n",
       "      <th>clean_up_cost</th>\n",
       "      <th>judgment_amount</th>\n",
       "      <th>payment_amount</th>\n",
       "      <th>balance_due</th>\n",
       "      <th>payment_date</th>\n",
       "      <th>payment_status</th>\n",
       "      <th>collection_status</th>\n",
       "      <th>grafitti_status</th>\n",
       "      <th>compliance_detail</th>\n",
       "      <th>compliance</th>\n",
       "    </tr>\n",
       "  </thead>\n",
       "  <tbody>\n",
       "    <tr>\n",
       "      <th>0</th>\n",
       "      <td>22056</td>\n",
       "      <td>Buildings, Safety Engineering &amp; Env Department</td>\n",
       "      <td>Sims, Martinzie</td>\n",
       "      <td>INVESTMENT INC., MIDWEST MORTGAGE</td>\n",
       "      <td>2900.0</td>\n",
       "      <td>TYLER</td>\n",
       "      <td>NaN</td>\n",
       "      <td>3.0</td>\n",
       "      <td>S. WICKER</td>\n",
       "      <td>CHICAGO</td>\n",
       "      <td>...</td>\n",
       "      <td>0.0</td>\n",
       "      <td>305.0</td>\n",
       "      <td>0.0</td>\n",
       "      <td>305.0</td>\n",
       "      <td>NaN</td>\n",
       "      <td>NO PAYMENT APPLIED</td>\n",
       "      <td>NaN</td>\n",
       "      <td>NaN</td>\n",
       "      <td>non-compliant by no payment</td>\n",
       "      <td>0.0</td>\n",
       "    </tr>\n",
       "    <tr>\n",
       "      <th>1</th>\n",
       "      <td>27586</td>\n",
       "      <td>Buildings, Safety Engineering &amp; Env Department</td>\n",
       "      <td>Williams, Darrin</td>\n",
       "      <td>Michigan, Covenant House</td>\n",
       "      <td>4311.0</td>\n",
       "      <td>CENTRAL</td>\n",
       "      <td>NaN</td>\n",
       "      <td>2959.0</td>\n",
       "      <td>Martin Luther King</td>\n",
       "      <td>Detroit</td>\n",
       "      <td>...</td>\n",
       "      <td>0.0</td>\n",
       "      <td>855.0</td>\n",
       "      <td>780.0</td>\n",
       "      <td>75.0</td>\n",
       "      <td>2005-06-02 00:00:00</td>\n",
       "      <td>PAID IN FULL</td>\n",
       "      <td>NaN</td>\n",
       "      <td>NaN</td>\n",
       "      <td>compliant by late payment within 1 month</td>\n",
       "      <td>1.0</td>\n",
       "    </tr>\n",
       "    <tr>\n",
       "      <th>2</th>\n",
       "      <td>22062</td>\n",
       "      <td>Buildings, Safety Engineering &amp; Env Department</td>\n",
       "      <td>Sims, Martinzie</td>\n",
       "      <td>SANDERS, DERRON</td>\n",
       "      <td>1449.0</td>\n",
       "      <td>LONGFELLOW</td>\n",
       "      <td>NaN</td>\n",
       "      <td>23658.0</td>\n",
       "      <td>P.O. BOX</td>\n",
       "      <td>DETROIT</td>\n",
       "      <td>...</td>\n",
       "      <td>0.0</td>\n",
       "      <td>0.0</td>\n",
       "      <td>0.0</td>\n",
       "      <td>0.0</td>\n",
       "      <td>NaN</td>\n",
       "      <td>NO PAYMENT APPLIED</td>\n",
       "      <td>NaN</td>\n",
       "      <td>NaN</td>\n",
       "      <td>not responsible by disposition</td>\n",
       "      <td>NaN</td>\n",
       "    </tr>\n",
       "    <tr>\n",
       "      <th>3</th>\n",
       "      <td>22084</td>\n",
       "      <td>Buildings, Safety Engineering &amp; Env Department</td>\n",
       "      <td>Sims, Martinzie</td>\n",
       "      <td>MOROSI, MIKE</td>\n",
       "      <td>1441.0</td>\n",
       "      <td>LONGFELLOW</td>\n",
       "      <td>NaN</td>\n",
       "      <td>5.0</td>\n",
       "      <td>ST. CLAIR</td>\n",
       "      <td>DETROIT</td>\n",
       "      <td>...</td>\n",
       "      <td>0.0</td>\n",
       "      <td>0.0</td>\n",
       "      <td>0.0</td>\n",
       "      <td>0.0</td>\n",
       "      <td>NaN</td>\n",
       "      <td>NO PAYMENT APPLIED</td>\n",
       "      <td>NaN</td>\n",
       "      <td>NaN</td>\n",
       "      <td>not responsible by disposition</td>\n",
       "      <td>NaN</td>\n",
       "    </tr>\n",
       "    <tr>\n",
       "      <th>4</th>\n",
       "      <td>22093</td>\n",
       "      <td>Buildings, Safety Engineering &amp; Env Department</td>\n",
       "      <td>Sims, Martinzie</td>\n",
       "      <td>NATHANIEL, NEAL</td>\n",
       "      <td>2449.0</td>\n",
       "      <td>CHURCHILL</td>\n",
       "      <td>NaN</td>\n",
       "      <td>7449.0</td>\n",
       "      <td>CHURCHILL</td>\n",
       "      <td>DETROIT</td>\n",
       "      <td>...</td>\n",
       "      <td>0.0</td>\n",
       "      <td>0.0</td>\n",
       "      <td>0.0</td>\n",
       "      <td>0.0</td>\n",
       "      <td>NaN</td>\n",
       "      <td>NO PAYMENT APPLIED</td>\n",
       "      <td>NaN</td>\n",
       "      <td>NaN</td>\n",
       "      <td>not responsible by disposition</td>\n",
       "      <td>NaN</td>\n",
       "    </tr>\n",
       "  </tbody>\n",
       "</table>\n",
       "<p>5 rows × 34 columns</p>\n",
       "</div>"
      ],
      "text/plain": [
       "   ticket_id                                     agency_name  \\\n",
       "0      22056  Buildings, Safety Engineering & Env Department   \n",
       "1      27586  Buildings, Safety Engineering & Env Department   \n",
       "2      22062  Buildings, Safety Engineering & Env Department   \n",
       "3      22084  Buildings, Safety Engineering & Env Department   \n",
       "4      22093  Buildings, Safety Engineering & Env Department   \n",
       "\n",
       "     inspector_name                      violator_name  \\\n",
       "0   Sims, Martinzie  INVESTMENT INC., MIDWEST MORTGAGE   \n",
       "1  Williams, Darrin           Michigan, Covenant House   \n",
       "2   Sims, Martinzie                    SANDERS, DERRON   \n",
       "3   Sims, Martinzie                       MOROSI, MIKE   \n",
       "4   Sims, Martinzie                    NATHANIEL, NEAL   \n",
       "\n",
       "   violation_street_number violation_street_name  violation_zip_code  \\\n",
       "0                   2900.0                 TYLER                 NaN   \n",
       "1                   4311.0               CENTRAL                 NaN   \n",
       "2                   1449.0            LONGFELLOW                 NaN   \n",
       "3                   1441.0            LONGFELLOW                 NaN   \n",
       "4                   2449.0             CHURCHILL                 NaN   \n",
       "\n",
       "   mailing_address_str_number mailing_address_str_name     city     ...      \\\n",
       "0                         3.0                S. WICKER  CHICAGO     ...       \n",
       "1                      2959.0       Martin Luther King  Detroit     ...       \n",
       "2                     23658.0                 P.O. BOX  DETROIT     ...       \n",
       "3                         5.0                ST. CLAIR  DETROIT     ...       \n",
       "4                      7449.0                CHURCHILL  DETROIT     ...       \n",
       "\n",
       "  clean_up_cost judgment_amount payment_amount balance_due  \\\n",
       "0           0.0           305.0            0.0       305.0   \n",
       "1           0.0           855.0          780.0        75.0   \n",
       "2           0.0             0.0            0.0         0.0   \n",
       "3           0.0             0.0            0.0         0.0   \n",
       "4           0.0             0.0            0.0         0.0   \n",
       "\n",
       "          payment_date      payment_status collection_status grafitti_status  \\\n",
       "0                  NaN  NO PAYMENT APPLIED               NaN             NaN   \n",
       "1  2005-06-02 00:00:00        PAID IN FULL               NaN             NaN   \n",
       "2                  NaN  NO PAYMENT APPLIED               NaN             NaN   \n",
       "3                  NaN  NO PAYMENT APPLIED               NaN             NaN   \n",
       "4                  NaN  NO PAYMENT APPLIED               NaN             NaN   \n",
       "\n",
       "                          compliance_detail  compliance  \n",
       "0               non-compliant by no payment         0.0  \n",
       "1  compliant by late payment within 1 month         1.0  \n",
       "2            not responsible by disposition         NaN  \n",
       "3            not responsible by disposition         NaN  \n",
       "4            not responsible by disposition         NaN  \n",
       "\n",
       "[5 rows x 34 columns]"
      ]
     },
     "execution_count": 241,
     "metadata": {},
     "output_type": "execute_result"
    }
   ],
   "source": [
    "train.head()"
   ]
  },
  {
   "cell_type": "code",
   "execution_count": 242,
   "metadata": {
    "collapsed": false,
    "scrolled": true
   },
   "outputs": [
    {
     "data": {
      "text/html": [
       "<div>\n",
       "<table border=\"1\" class=\"dataframe\">\n",
       "  <thead>\n",
       "    <tr style=\"text-align: right;\">\n",
       "      <th></th>\n",
       "      <th>ticket_id</th>\n",
       "      <th>address</th>\n",
       "    </tr>\n",
       "  </thead>\n",
       "  <tbody>\n",
       "    <tr>\n",
       "      <th>0</th>\n",
       "      <td>22056</td>\n",
       "      <td>2900 tyler, Detroit MI</td>\n",
       "    </tr>\n",
       "    <tr>\n",
       "      <th>1</th>\n",
       "      <td>27586</td>\n",
       "      <td>4311 central, Detroit MI</td>\n",
       "    </tr>\n",
       "    <tr>\n",
       "      <th>2</th>\n",
       "      <td>22062</td>\n",
       "      <td>1449 longfellow, Detroit MI</td>\n",
       "    </tr>\n",
       "    <tr>\n",
       "      <th>3</th>\n",
       "      <td>22084</td>\n",
       "      <td>1441 longfellow, Detroit MI</td>\n",
       "    </tr>\n",
       "    <tr>\n",
       "      <th>4</th>\n",
       "      <td>22093</td>\n",
       "      <td>2449 churchill, Detroit MI</td>\n",
       "    </tr>\n",
       "  </tbody>\n",
       "</table>\n",
       "</div>"
      ],
      "text/plain": [
       "   ticket_id                      address\n",
       "0      22056       2900 tyler, Detroit MI\n",
       "1      27586     4311 central, Detroit MI\n",
       "2      22062  1449 longfellow, Detroit MI\n",
       "3      22084  1441 longfellow, Detroit MI\n",
       "4      22093   2449 churchill, Detroit MI"
      ]
     },
     "execution_count": 242,
     "metadata": {},
     "output_type": "execute_result"
    }
   ],
   "source": [
    "addresses.head()"
   ]
  },
  {
   "cell_type": "code",
   "execution_count": 243,
   "metadata": {
    "collapsed": false
   },
   "outputs": [
    {
     "data": {
      "text/html": [
       "<div>\n",
       "<table border=\"1\" class=\"dataframe\">\n",
       "  <thead>\n",
       "    <tr style=\"text-align: right;\">\n",
       "      <th></th>\n",
       "      <th>address</th>\n",
       "      <th>lat</th>\n",
       "      <th>lon</th>\n",
       "    </tr>\n",
       "  </thead>\n",
       "  <tbody>\n",
       "    <tr>\n",
       "      <th>0</th>\n",
       "      <td>4300 rosa parks blvd, Detroit MI 48208</td>\n",
       "      <td>42.346169</td>\n",
       "      <td>-83.079962</td>\n",
       "    </tr>\n",
       "    <tr>\n",
       "      <th>1</th>\n",
       "      <td>14512 sussex, Detroit MI</td>\n",
       "      <td>42.394657</td>\n",
       "      <td>-83.194265</td>\n",
       "    </tr>\n",
       "    <tr>\n",
       "      <th>2</th>\n",
       "      <td>3456 garland, Detroit MI</td>\n",
       "      <td>42.373779</td>\n",
       "      <td>-82.986228</td>\n",
       "    </tr>\n",
       "    <tr>\n",
       "      <th>3</th>\n",
       "      <td>5787 wayburn, Detroit MI</td>\n",
       "      <td>42.403342</td>\n",
       "      <td>-82.957805</td>\n",
       "    </tr>\n",
       "    <tr>\n",
       "      <th>4</th>\n",
       "      <td>5766 haverhill, Detroit MI</td>\n",
       "      <td>42.407255</td>\n",
       "      <td>-82.946295</td>\n",
       "    </tr>\n",
       "  </tbody>\n",
       "</table>\n",
       "</div>"
      ],
      "text/plain": [
       "                                  address        lat        lon\n",
       "0  4300 rosa parks blvd, Detroit MI 48208  42.346169 -83.079962\n",
       "1                14512 sussex, Detroit MI  42.394657 -83.194265\n",
       "2                3456 garland, Detroit MI  42.373779 -82.986228\n",
       "3                5787 wayburn, Detroit MI  42.403342 -82.957805\n",
       "4              5766 haverhill, Detroit MI  42.407255 -82.946295"
      ]
     },
     "execution_count": 243,
     "metadata": {},
     "output_type": "execute_result"
    }
   ],
   "source": [
    "latlons.head()"
   ]
  },
  {
   "cell_type": "code",
   "execution_count": null,
   "metadata": {
    "collapsed": true
   },
   "outputs": [],
   "source": []
  },
  {
   "cell_type": "code",
   "execution_count": null,
   "metadata": {
    "collapsed": true
   },
   "outputs": [],
   "source": []
  },
  {
   "cell_type": "code",
   "execution_count": null,
   "metadata": {
    "collapsed": true
   },
   "outputs": [],
   "source": []
  },
  {
   "cell_type": "markdown",
   "metadata": {},
   "source": [
    "## Preprocessing Steps\n",
    "1. Get the lat/lon features \n",
    "2. drop NA-compliance rows from training data\n",
    "    * also fillna for lon/lat data\n",
    "3. Find columns to drop:\n",
    "    * take difference between columns in train and test sets\n",
    "    * ticket_id is not a feature\n",
    "    * drop address columns\n",
    "4. Alternatively, columns to keep:\n",
    "    * agency_name\n",
    "    * inspector_name\n",
    "    * judgment_amount\n",
    "    * violation_code\n",
    "    * disposition\n",
    "    * lat\n",
    "    * lon\n",
    "    * possibly generate new column which is difference between ticket_issued_date and hearing_date\n",
    "5. convert appropriate columns to categorical"
   ]
  },
  {
   "cell_type": "code",
   "execution_count": 244,
   "metadata": {
    "collapsed": false
   },
   "outputs": [],
   "source": [
    "# 1. Get lat/lon features\n",
    "# Join latlons to addresses\n",
    "full_address = pd.merge(addresses, latlons, on='address', how='left')\n",
    "# Join to train dataframe\n",
    "train_data = pd.merge(train, full_address, on='ticket_id', how='inner')"
   ]
  },
  {
   "cell_type": "code",
   "execution_count": 245,
   "metadata": {
    "collapsed": false
   },
   "outputs": [
    {
     "data": {
      "text/plain": [
       "Index(['ticket_id', 'agency_name', 'inspector_name', 'violator_name',\n",
       "       'violation_street_number', 'violation_street_name',\n",
       "       'violation_zip_code', 'mailing_address_str_number',\n",
       "       'mailing_address_str_name', 'city', 'state', 'zip_code',\n",
       "       'non_us_str_code', 'country', 'ticket_issued_date', 'hearing_date',\n",
       "       'violation_code', 'violation_description', 'disposition', 'fine_amount',\n",
       "       'admin_fee', 'state_fee', 'late_fee', 'discount_amount',\n",
       "       'clean_up_cost', 'judgment_amount', 'payment_amount', 'balance_due',\n",
       "       'payment_date', 'payment_status', 'collection_status',\n",
       "       'grafitti_status', 'compliance_detail', 'compliance', 'address', 'lat',\n",
       "       'lon'],\n",
       "      dtype='object')"
      ]
     },
     "execution_count": 245,
     "metadata": {},
     "output_type": "execute_result"
    }
   ],
   "source": [
    "train_data.columns"
   ]
  },
  {
   "cell_type": "code",
   "execution_count": 246,
   "metadata": {
    "collapsed": false
   },
   "outputs": [],
   "source": [
    "# 2. drop rows where compliance = NaN (also lat and lon)\n",
    "train_data = train_data.dropna(subset=['compliance'])\n",
    "train_data['lat'].fillna(method='pad', inplace=True)\n",
    "train_data['lon'].fillna(method='pad', inplace=True)      \n",
    "\n",
    "train_data['compliance'] = train_data['compliance'].astype(int) # convert compliance data to int"
   ]
  },
  {
   "cell_type": "code",
   "execution_count": 247,
   "metadata": {
    "collapsed": false
   },
   "outputs": [],
   "source": [
    "# # 3. columns to drop\n",
    "# train_drop_cols = list(train.columns.difference(test.columns))\n",
    "# additional_drop_cols = ['ticket_id', 'violation_street_number', 'violation_street_name', \n",
    "#                         'violation_zip_code', 'mailing_address_str_number', 'mailing_address_str_name',\n",
    "#                         'city', 'state', 'zip_code', 'non_us_str_code', 'country', 'address']\n",
    "# drop_cols = train_drop_cols + additional_drop_cols"
   ]
  },
  {
   "cell_type": "code",
   "execution_count": 248,
   "metadata": {
    "collapsed": false
   },
   "outputs": [],
   "source": [
    "# 4. columns to keep\n",
    "train_keep_cols = ['agency_name', 'inspector_name', 'judgment_amount', 'violation_code', \n",
    "                   'disposition', 'lat', 'lon']"
   ]
  },
  {
   "cell_type": "code",
   "execution_count": 249,
   "metadata": {
    "collapsed": true
   },
   "outputs": [],
   "source": [
    "# 5. convert columns to categorical\n",
    "# http://pbpython.com/categorical-encoding.html\n",
    "from sklearn.preprocessing import LabelEncoder\n",
    "\n",
    "le = LabelEncoder()\n",
    "train_data['agency_name'] = le.fit_transform(train_data[\"agency_name\"])\n",
    "train_data['inspector_name'] = le.fit_transform(train_data[\"inspector_name\"])\n",
    "train_data['violation_code'] = le.fit_transform(train_data[\"violation_code\"])\n",
    "train_data['disposition'] = le.fit_transform(train_data[\"disposition\"])"
   ]
  },
  {
   "cell_type": "code",
   "execution_count": 250,
   "metadata": {
    "collapsed": false
   },
   "outputs": [
    {
     "name": "stdout",
     "output_type": "stream",
     "text": [
      "(159880, 7)\n",
      "(159880,)\n"
     ]
    }
   ],
   "source": [
    "X = train_data[train_keep_cols]\n",
    "y = train_data['compliance']\n",
    "print(X.shape)\n",
    "print(y.shape)\n"
   ]
  },
  {
   "cell_type": "code",
   "execution_count": 251,
   "metadata": {
    "collapsed": false
   },
   "outputs": [
    {
     "data": {
      "text/plain": [
       "agency_name          int64\n",
       "inspector_name       int64\n",
       "judgment_amount    float64\n",
       "violation_code       int64\n",
       "disposition          int64\n",
       "lat                float64\n",
       "lon                float64\n",
       "dtype: object"
      ]
     },
     "execution_count": 251,
     "metadata": {},
     "output_type": "execute_result"
    }
   ],
   "source": [
    "X.dtypes"
   ]
  },
  {
   "cell_type": "code",
   "execution_count": 252,
   "metadata": {
    "collapsed": false
   },
   "outputs": [
    {
     "data": {
      "text/plain": [
       "False"
      ]
     },
     "execution_count": 252,
     "metadata": {},
     "output_type": "execute_result"
    }
   ],
   "source": [
    "# ensure no null values\n",
    "X.isnull().values.any()"
   ]
  },
  {
   "cell_type": "code",
   "execution_count": null,
   "metadata": {
    "collapsed": true
   },
   "outputs": [],
   "source": []
  },
  {
   "cell_type": "code",
   "execution_count": null,
   "metadata": {
    "collapsed": true
   },
   "outputs": [],
   "source": []
  },
  {
   "cell_type": "code",
   "execution_count": null,
   "metadata": {
    "collapsed": true
   },
   "outputs": [],
   "source": []
  },
  {
   "cell_type": "markdown",
   "metadata": {},
   "source": [
    "## Fit Gradient Boosting Classifiers and Evaluate"
   ]
  },
  {
   "cell_type": "code",
   "execution_count": 253,
   "metadata": {
    "collapsed": false
   },
   "outputs": [],
   "source": [
    "from sklearn.model_selection import train_test_split\n",
    "\n",
    "X_train, X_test, y_train, y_test = train_test_split(X, y, random_state=0)"
   ]
  },
  {
   "cell_type": "code",
   "execution_count": 256,
   "metadata": {
    "collapsed": false
   },
   "outputs": [
    {
     "name": "stdout",
     "output_type": "stream",
     "text": [
      "CPU times: user 8.04 s, sys: 0 ns, total: 8.04 s\n",
      "Wall time: 11.4 s\n"
     ]
    }
   ],
   "source": [
    "%%time\n",
    "from sklearn.ensemble import GradientBoostingClassifier\n",
    "\n",
    "clf = GradientBoostingClassifier().fit(X_train, y_train)"
   ]
  },
  {
   "cell_type": "code",
   "execution_count": 257,
   "metadata": {
    "collapsed": false
   },
   "outputs": [],
   "source": [
    "pred_probas = clf.predict_proba(X_test)[:, 1]"
   ]
  },
  {
   "cell_type": "code",
   "execution_count": 258,
   "metadata": {
    "collapsed": false
   },
   "outputs": [
    {
     "name": "stdout",
     "output_type": "stream",
     "text": [
      "0.804469114006\n"
     ]
    }
   ],
   "source": [
    "from sklearn.metrics import auc, roc_curve, accuracy_score\n",
    "# Calculate Area Under the (Receiver Operating Characteristic) Curve\n",
    "fpr, tpr, threshold = roc_curve(y_test, pred_probas)\n",
    "roc_auc = auc(fpr, tpr)\n",
    "\n",
    "print(roc_auc)"
   ]
  },
  {
   "cell_type": "code",
   "execution_count": 259,
   "metadata": {
    "collapsed": false
   },
   "outputs": [
    {
     "name": "stdout",
     "output_type": "stream",
     "text": [
      "[ 0.80912058  0.79372945  0.80902666  0.80836182  0.80674437]\n",
      "0.805396574587\n",
      "CPU times: user 33.9 s, sys: 8 ms, total: 33.9 s\n",
      "Wall time: 48.3 s\n"
     ]
    }
   ],
   "source": [
    "%%time\n",
    "from sklearn.model_selection import cross_val_score\n",
    "\n",
    "scores = cross_val_score(clf, X_train, y_train, scoring=\"roc_auc\", cv=5)\n",
    "print(scores)\n",
    "print(scores.mean()) # cross-validated score"
   ]
  },
  {
   "cell_type": "code",
   "execution_count": null,
   "metadata": {
    "collapsed": true
   },
   "outputs": [],
   "source": []
  },
  {
   "cell_type": "code",
   "execution_count": null,
   "metadata": {
    "collapsed": true
   },
   "outputs": [],
   "source": []
  },
  {
   "cell_type": "code",
   "execution_count": null,
   "metadata": {
    "collapsed": true
   },
   "outputs": [],
   "source": []
  },
  {
   "cell_type": "markdown",
   "metadata": {},
   "source": [
    "## Use test data for submission"
   ]
  },
  {
   "cell_type": "code",
   "execution_count": 263,
   "metadata": {
    "collapsed": true
   },
   "outputs": [],
   "source": [
    "def blight_model():\n",
    "    ## Preprocessing\n",
    "    # 1. Get lat/lon features\n",
    "    full_address = pd.merge(addresses, latlons, on='address', how='left') # Join latlons to addresses\n",
    "    test_data = pd.merge(test, full_address, on='ticket_id', how='inner') # Join to test dataframe\n",
    "    # 2. drop NA rows for lat and lon - s\n",
    "    test_data['lat'].fillna(method='pad', inplace=True)\n",
    "    test_data['lon'].fillna(method='pad', inplace=True)  \n",
    "    # 4. columns to keep\n",
    "    test_keep_cols = ['agency_name', 'inspector_name', 'judgment_amount', 'violation_code', \n",
    "                       'disposition', 'lat', 'lon']\n",
    "    # 5. convert columns to categorical\n",
    "    le = LabelEncoder()\n",
    "    test_data['agency_name'] = le.fit_transform(test_data[\"agency_name\"])\n",
    "    test_data['inspector_name'] = le.fit_transform(test_data[\"inspector_name\"])\n",
    "    test_data['violation_code'] = le.fit_transform(test_data[\"violation_code\"])\n",
    "    test_data['disposition'] = le.fit_transform(test_data[\"disposition\"])\n",
    "    X = test_data[test_keep_cols]\n",
    "    # print(X.shape)\n",
    "    # print(X.isnull().values.any() == False) # ensure no null values\n",
    "    \n",
    "    # Make predictions and Reindex\n",
    "    test_proba = clf.predict_proba(X)[:, 1]\n",
    "    test_data['compliance'] = test_proba\n",
    "    test_data.set_index('ticket_id', inplace=True)\n",
    "    \n",
    "    return test_data.compliance # Your answer here"
   ]
  },
  {
   "cell_type": "code",
   "execution_count": 264,
   "metadata": {
    "collapsed": false
   },
   "outputs": [],
   "source": [
    "# blight_model()"
   ]
  },
  {
   "cell_type": "code",
   "execution_count": 265,
   "metadata": {
    "collapsed": false
   },
   "outputs": [],
   "source": [
    "# bm = blight_model()\n",
    "# res = 'Data type Test: '\n",
    "# res += ['Failed: type(bm) should Series\\n','Passed\\n'][type(bm)==pd.Series]\n",
    "# res += 'Data shape Test: '\n",
    "# res += ['Failed: len(bm) should be 61001\\n','Passed\\n'][len(bm)==61001]\n",
    "# res += 'Data Values Test: '\n",
    "# res += ['Failed: all values should be in [0.,1.]\\n','Passed\\n'][all((bm<=1.) & (bm>=0.))]\n",
    "# res += 'Data Values type Test: '\n",
    "# res += ['Failed: bm.dtype should be float\\n','Passed\\n'][str(bm.dtype).count('float')>0]\n",
    "# res += 'Index type Test: '\n",
    "# res += ['Failed: type(bm.index) should be Int64Index\\n','Passed\\n'][type(bm.index)==pd.Int64Index]\n",
    "# res += 'Index values type Test: '\n",
    "# res += ['Failed: type(bm.index[0]) should be int64\\n','Passed\\n'][str(type(bm.index[0])).count(\"int64\")>0]\n",
    "\n",
    "# res += 'Output index shape test:'\n",
    "# res += ['Failed, bm.index.shape should be (61001,)\\n','Passed\\n'][bm.index.shape==(61001,)]\n",
    "\n",
    "# res += 'Output index test: '\n",
    "# if bm.index.shape==(61001,):\n",
    "#     res +=['Failed\\n','Passed\\n'][all(pd.read_csv('test.csv',usecols=[0],index_col=0).sort_index().index.values==bm.sort_index().index.values)]\n",
    "# else:\n",
    "#     res+='Failed'\n",
    "# print(res)"
   ]
  },
  {
   "cell_type": "code",
   "execution_count": null,
   "metadata": {
    "collapsed": true
   },
   "outputs": [],
   "source": []
  }
 ],
 "metadata": {
  "coursera": {
   "course_slug": "python-machine-learning",
   "graded_item_id": "nNS8l",
   "launcher_item_id": "yWWk7",
   "part_id": "w8BSS"
  },
  "kernelspec": {
   "display_name": "Python 3",
   "language": "python",
   "name": "python3"
  },
  "language_info": {
   "codemirror_mode": {
    "name": "ipython",
    "version": 3
   },
   "file_extension": ".py",
   "mimetype": "text/x-python",
   "name": "python",
   "nbconvert_exporter": "python",
   "pygments_lexer": "ipython3",
   "version": "3.5.2"
  }
 },
 "nbformat": 4,
 "nbformat_minor": 2
}
